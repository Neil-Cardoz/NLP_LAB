{
  "nbformat": 4,
  "nbformat_minor": 0,
  "metadata": {
    "colab": {
      "provenance": [],
      "authorship_tag": "ABX9TyO/mCmajXWPKZjwHjI2k8SR",
      "include_colab_link": true
    },
    "kernelspec": {
      "name": "python3",
      "display_name": "Python 3"
    },
    "language_info": {
      "name": "python"
    }
  },
  "cells": [
    {
      "cell_type": "markdown",
      "metadata": {
        "id": "view-in-github",
        "colab_type": "text"
      },
      "source": [
        "<a href=\"https://colab.research.google.com/github/Neil-Cardoz/NLP_LAB/blob/main/nlp_text_preprocessing_ex_2.ipynb\" target=\"_parent\"><img src=\"https://colab.research.google.com/assets/colab-badge.svg\" alt=\"Open In Colab\"/></a>"
      ]
    },
    {
      "cell_type": "code",
      "execution_count": null,
      "metadata": {
        "id": "k5j2TWvms2CW"
      },
      "outputs": [],
      "source": [
        "# Regex lowercase"
      ]
    },
    {
      "cell_type": "code",
      "source": [
        "# We either uppercase or lowercase the text in order to standardize it"
      ],
      "metadata": {
        "id": "uSb70STMs53J"
      },
      "execution_count": null,
      "outputs": []
    },
    {
      "cell_type": "code",
      "source": [
        "import nltk\n",
        "import re"
      ],
      "metadata": {
        "id": "ArK9WIRLtMu5"
      },
      "execution_count": null,
      "outputs": []
    },
    {
      "cell_type": "code",
      "source": [
        "text = \"New York is the finantial capital of the United States of America\""
      ],
      "metadata": {
        "id": "znlMXgeVtBPg"
      },
      "execution_count": null,
      "outputs": []
    },
    {
      "cell_type": "code",
      "source": [
        "text.lower()"
      ],
      "metadata": {
        "colab": {
          "base_uri": "https://localhost:8080/",
          "height": 35
        },
        "id": "RmU9EeZStJbs",
        "outputId": "e6232fe6-e5b5-4784-93d8-7e281679dacc"
      },
      "execution_count": null,
      "outputs": [
        {
          "output_type": "execute_result",
          "data": {
            "text/plain": [
              "'new york is the finantial capital of the united states of america'"
            ],
            "application/vnd.google.colaboratory.intrinsic+json": {
              "type": "string"
            }
          },
          "metadata": {},
          "execution_count": 5
        }
      ]
    },
    {
      "cell_type": "code",
      "source": [
        "substitution_text = \" This is an Example. <p> This is a <div> paragraph. </p>\""
      ],
      "metadata": {
        "id": "ooG9NCAGtO2X"
      },
      "execution_count": null,
      "outputs": []
    },
    {
      "cell_type": "code",
      "source": [
        "clean_text = re.sub(\"<.*?>\", \"^^\" ,substitution_text)"
      ],
      "metadata": {
        "id": "WWi-9gsktgW2"
      },
      "execution_count": null,
      "outputs": []
    },
    {
      "cell_type": "code",
      "source": [
        "clean_text"
      ],
      "metadata": {
        "colab": {
          "base_uri": "https://localhost:8080/",
          "height": 35
        },
        "id": "dnk_gm-Ztq1e",
        "outputId": "de68b67c-1c2c-4e68-a288-c5bd6687089b"
      },
      "execution_count": null,
      "outputs": [
        {
          "output_type": "execute_result",
          "data": {
            "text/plain": [
              "' This is an Example. ^^ This is a ^^ paragraph. ^^'"
            ],
            "application/vnd.google.colaboratory.intrinsic+json": {
              "type": "string"
            }
          },
          "metadata": {},
          "execution_count": 8
        }
      ]
    },
    {
      "cell_type": "code",
      "source": [
        "# Now we are learning to remove the urls from the data"
      ],
      "metadata": {
        "id": "W5SmdsUhtuhk"
      },
      "execution_count": null,
      "outputs": []
    },
    {
      "cell_type": "code",
      "source": [
        "import re"
      ],
      "metadata": {
        "id": "oO35P0VquKCf"
      },
      "execution_count": null,
      "outputs": []
    },
    {
      "cell_type": "code",
      "source": [
        "import re\n",
        "\n",
        "def remove_url(text):\n",
        "  \"\"\"removes the urls form the string\"\"\"\n",
        "  return re.sub(r\"https?://\\S+\", \"^^\" , text)"
      ],
      "metadata": {
        "id": "C_jfD0XOuKvt"
      },
      "execution_count": null,
      "outputs": []
    },
    {
      "cell_type": "code",
      "source": [
        "url_text = \" The link to my website is https://www.google.com\""
      ],
      "metadata": {
        "id": "QkwtNiQ4uTu8"
      },
      "execution_count": null,
      "outputs": []
    },
    {
      "cell_type": "code",
      "source": [
        "substituted_url = remove_url(url_text)"
      ],
      "metadata": {
        "id": "1TitN4WQvI6_"
      },
      "execution_count": null,
      "outputs": []
    },
    {
      "cell_type": "code",
      "source": [
        "print(substituted_url)"
      ],
      "metadata": {
        "colab": {
          "base_uri": "https://localhost:8080/"
        },
        "id": "vE8TEegavLR3",
        "outputId": "7cd95b86-d041-4b7c-fd3a-844d3e25c2c2"
      },
      "execution_count": null,
      "outputs": [
        {
          "output_type": "stream",
          "name": "stdout",
          "text": [
            " The link to my website is ^^\n"
          ]
        }
      ]
    },
    {
      "cell_type": "code",
      "source": [
        "# We are learning how to remove puntuations from a string"
      ],
      "metadata": {
        "id": "vFUCv28DvSU-"
      },
      "execution_count": null,
      "outputs": []
    },
    {
      "cell_type": "code",
      "source": [
        "def remove_puntuation(text):\n",
        "  \"\"\" Removes puntuation from a string \"\"\"\n",
        "  return re.sub(r\"[^\\w\\s]\", \"^^\", text)"
      ],
      "metadata": {
        "id": "Xtin1meZv6XJ"
      },
      "execution_count": null,
      "outputs": []
    },
    {
      "cell_type": "code",
      "source": [
        "puntuation_text = \"“Why, what’s wrong?” she replied\""
      ],
      "metadata": {
        "id": "8VNLOERKwIeW"
      },
      "execution_count": null,
      "outputs": []
    },
    {
      "cell_type": "code",
      "source": [
        "removed_puntuation = remove_puntuation(puntuation_text)"
      ],
      "metadata": {
        "id": "D5-xtk7kwXrY"
      },
      "execution_count": null,
      "outputs": []
    },
    {
      "cell_type": "code",
      "source": [
        "print(removed_puntuation)"
      ],
      "metadata": {
        "colab": {
          "base_uri": "https://localhost:8080/"
        },
        "id": "00EBR6lVwbZh",
        "outputId": "be402e83-de78-4a7f-8371-16fef8b797cf"
      },
      "execution_count": null,
      "outputs": [
        {
          "output_type": "stream",
          "name": "stdout",
          "text": [
            "^^Why^^ what^^s wrong^^^^ she replied\n"
          ]
        }
      ]
    },
    {
      "cell_type": "code",
      "source": [
        "# We now learn how to spell check our words and then correct them"
      ],
      "metadata": {
        "id": "MN4nOhNDwc9k"
      },
      "execution_count": null,
      "outputs": []
    },
    {
      "cell_type": "code",
      "source": [
        "from textblob import TextBlob"
      ],
      "metadata": {
        "id": "yf0lG1Gs0DvY"
      },
      "execution_count": null,
      "outputs": []
    },
    {
      "cell_type": "code",
      "source": [
        "def correct_spelling_textblob(text):\n",
        "  \"\"\" Correct spelling using TextBlob \"\"\"\n",
        "  return str(TextBlob(text).correct())"
      ],
      "metadata": {
        "id": "cB5Jzs980RG9"
      },
      "execution_count": null,
      "outputs": []
    },
    {
      "cell_type": "code",
      "source": [
        "incorrect_spelling = \"The compter is brokn\""
      ],
      "metadata": {
        "id": "0wYCX3w00RJH"
      },
      "execution_count": null,
      "outputs": []
    },
    {
      "cell_type": "code",
      "source": [
        "correct_spelling = correct_spelling_textblob(incorrect_spelling)"
      ],
      "metadata": {
        "id": "PxxGBFtM0RLa"
      },
      "execution_count": null,
      "outputs": []
    },
    {
      "cell_type": "code",
      "source": [
        "correct_spelling"
      ],
      "metadata": {
        "colab": {
          "base_uri": "https://localhost:8080/",
          "height": 35
        },
        "id": "Ws8MQP2G0ruy",
        "outputId": "f2ffbc5e-3357-408a-8b4f-5280a6b1b541"
      },
      "execution_count": null,
      "outputs": [
        {
          "output_type": "execute_result",
          "data": {
            "text/plain": [
              "'The computer is broken'"
            ],
            "application/vnd.google.colaboratory.intrinsic+json": {
              "type": "string"
            }
          },
          "metadata": {},
          "execution_count": 25
        }
      ]
    },
    {
      "cell_type": "code",
      "source": [
        "# We can also correct spelling using the spellchecker library"
      ],
      "metadata": {
        "id": "aiQ4MWu23OR-"
      },
      "execution_count": null,
      "outputs": []
    },
    {
      "cell_type": "code",
      "source": [
        "!pip install pyspellchecker"
      ],
      "metadata": {
        "colab": {
          "base_uri": "https://localhost:8080/"
        },
        "id": "M4E6h_sM3iQT",
        "outputId": "9157ddac-60d5-4bf8-b9ed-37eef0e9cb02"
      },
      "execution_count": null,
      "outputs": [
        {
          "output_type": "stream",
          "name": "stdout",
          "text": [
            "Collecting pyspellchecker\n",
            "  Downloading pyspellchecker-0.8.3-py3-none-any.whl.metadata (9.5 kB)\n",
            "Downloading pyspellchecker-0.8.3-py3-none-any.whl (7.2 MB)\n",
            "\u001b[?25l   \u001b[90m━━━━━━━━━━━━━━━━━━━━━━━━━━━━━━━━━━━━━━━━\u001b[0m \u001b[32m0.0/7.2 MB\u001b[0m \u001b[31m?\u001b[0m eta \u001b[36m-:--:--\u001b[0m\r\u001b[2K   \u001b[91m━━\u001b[0m\u001b[91m╸\u001b[0m\u001b[90m━━━━━━━━━━━━━━━━━━━━━━━━━━━━━━━━━━━━━\u001b[0m \u001b[32m0.5/7.2 MB\u001b[0m \u001b[31m14.9 MB/s\u001b[0m eta \u001b[36m0:00:01\u001b[0m\r\u001b[2K   \u001b[91m━━━━━━━━━━━━━━━━━━━━━━━━━━━━━━━━\u001b[0m\u001b[90m╺\u001b[0m\u001b[90m━━━━━━━\u001b[0m \u001b[32m5.8/7.2 MB\u001b[0m \u001b[31m84.2 MB/s\u001b[0m eta \u001b[36m0:00:01\u001b[0m\r\u001b[2K   \u001b[91m━━━━━━━━━━━━━━━━━━━━━━━━━━━━━━━━━━━━━━━\u001b[0m\u001b[91m╸\u001b[0m \u001b[32m7.2/7.2 MB\u001b[0m \u001b[31m93.0 MB/s\u001b[0m eta \u001b[36m0:00:01\u001b[0m\r\u001b[2K   \u001b[90m━━━━━━━━━━━━━━━━━━━━━━━━━━━━━━━━━━━━━━━━\u001b[0m \u001b[32m7.2/7.2 MB\u001b[0m \u001b[31m65.3 MB/s\u001b[0m eta \u001b[36m0:00:00\u001b[0m\n",
            "\u001b[?25hInstalling collected packages: pyspellchecker\n",
            "Successfully installed pyspellchecker-0.8.3\n"
          ]
        }
      ]
    },
    {
      "cell_type": "code",
      "source": [
        "from spellchecker import SpellChecker"
      ],
      "metadata": {
        "id": "5_EN5K5e3OQC"
      },
      "execution_count": null,
      "outputs": []
    },
    {
      "cell_type": "code",
      "source": [
        "def correct_spelling_spellchecker(text):\n",
        "  \"\"\" Correct spelling using spellchecker \"\"\"\n",
        "  spell = SpellChecker()\n",
        "  word = text.split()\n",
        "  corrected_word = [spell.correction(word) for word in word]\n",
        "  return \" \".join(corrected_word)"
      ],
      "metadata": {
        "id": "tS8Aiw963ON4"
      },
      "execution_count": null,
      "outputs": []
    },
    {
      "cell_type": "code",
      "source": [
        "text = \"This is a sentnce with some misspeled words\""
      ],
      "metadata": {
        "id": "eNv9Hsvu3OLl"
      },
      "execution_count": null,
      "outputs": []
    },
    {
      "cell_type": "code",
      "source": [
        "corrected_txt = correct_spelling_spellchecker(text)\n",
        "print(corrected_txt)"
      ],
      "metadata": {
        "colab": {
          "base_uri": "https://localhost:8080/"
        },
        "id": "m2SPBbbr5nLs",
        "outputId": "a1ccaed0-424d-42b1-bb36-d26eb9dc1ce1"
      },
      "execution_count": null,
      "outputs": [
        {
          "output_type": "stream",
          "name": "stdout",
          "text": [
            "This is a sentence with some misspelled words\n"
          ]
        }
      ]
    },
    {
      "cell_type": "code",
      "source": [
        "# We remove multiple spaces here"
      ],
      "metadata": {
        "id": "iqUarUra6_TZ"
      },
      "execution_count": null,
      "outputs": []
    },
    {
      "cell_type": "code",
      "source": [
        "def remove_multispace(text):\n",
        "  \"\"\" Removes multiple spaces from a string \"\"\"\n",
        "  return re.sub(r'\\s+', ' ', text).strip()"
      ],
      "metadata": {
        "id": "MXrKHaoT6_Ql"
      },
      "execution_count": null,
      "outputs": []
    },
    {
      "cell_type": "code",
      "source": [
        "# Example text with multiple spaces\n",
        "text_with_multispace = \"This   text  has    too many     spaces.\"\n",
        "print(f\"Original text: '{text_with_multispace}'\")\n",
        "\n",
        "# Replace multiple spaces\n",
        "cleaned_text = remove_multispace(text_with_multispace)\n",
        "print(f\"Cleaned text:  '{cleaned_text}'\")"
      ],
      "metadata": {
        "colab": {
          "base_uri": "https://localhost:8080/"
        },
        "id": "89E6fVMz6_Ma",
        "outputId": "a6da6c82-9ac7-49c4-b426-0c8df88eec96"
      },
      "execution_count": null,
      "outputs": [
        {
          "output_type": "stream",
          "name": "stdout",
          "text": [
            "Original text: 'This   text  has    too many     spaces.'\n",
            "Cleaned text:  'This text has too many spaces.'\n"
          ]
        }
      ]
    },
    {
      "cell_type": "code",
      "source": [
        "# Now we process emojis"
      ],
      "metadata": {
        "id": "fC7CSOgF0soD"
      },
      "execution_count": null,
      "outputs": []
    },
    {
      "cell_type": "code",
      "source": [
        "emoji_text = \"I love Python 😄☹!\""
      ],
      "metadata": {
        "id": "wwY_3re31Im4"
      },
      "execution_count": null,
      "outputs": []
    },
    {
      "cell_type": "code",
      "source": [
        "# Remove emojis using the emoji library"
      ],
      "metadata": {
        "id": "TQsZm5991gD3"
      },
      "execution_count": null,
      "outputs": []
    },
    {
      "cell_type": "code",
      "source": [
        "!pip install emoji"
      ],
      "metadata": {
        "colab": {
          "base_uri": "https://localhost:8080/"
        },
        "id": "njv2sRfj1yYh",
        "outputId": "5fc73716-bfe1-41ee-9cb5-e90504fca723"
      },
      "execution_count": null,
      "outputs": [
        {
          "output_type": "stream",
          "name": "stdout",
          "text": [
            "Collecting emoji\n",
            "  Downloading emoji-2.14.1-py3-none-any.whl.metadata (5.7 kB)\n",
            "Downloading emoji-2.14.1-py3-none-any.whl (590 kB)\n",
            "\u001b[2K   \u001b[90m━━━━━━━━━━━━━━━━━━━━━━━━━━━━━━━━━━━━━━━━\u001b[0m \u001b[32m590.6/590.6 kB\u001b[0m \u001b[31m6.0 MB/s\u001b[0m eta \u001b[36m0:00:00\u001b[0m\n",
            "\u001b[?25hInstalling collected packages: emoji\n",
            "Successfully installed emoji-2.14.1\n"
          ]
        }
      ]
    },
    {
      "cell_type": "code",
      "source": [
        "import emoji"
      ],
      "metadata": {
        "id": "hk27N9dI1vXF"
      },
      "execution_count": null,
      "outputs": []
    },
    {
      "cell_type": "code",
      "source": [
        "def remove_emojis(text):\n",
        "  \"\"\" Removes emojis from a string \"\"\"\n",
        "  return emoji.replace_emoji(text, replace=' ')"
      ],
      "metadata": {
        "id": "CGZYPQ5T1mmc"
      },
      "execution_count": null,
      "outputs": []
    },
    {
      "cell_type": "code",
      "source": [
        "clean_emoji_text = remove_emojis(emoji_text)"
      ],
      "metadata": {
        "id": "DMlwIWzo15Y4"
      },
      "execution_count": null,
      "outputs": []
    },
    {
      "cell_type": "code",
      "source": [
        "print(clean_emoji_text)"
      ],
      "metadata": {
        "colab": {
          "base_uri": "https://localhost:8080/"
        },
        "id": "9_QHnRwd2Bv7",
        "outputId": "af4a4a37-7f5d-41aa-c306-8eaaf0d5a906"
      },
      "execution_count": null,
      "outputs": [
        {
          "output_type": "stream",
          "name": "stdout",
          "text": [
            "I love Python   !\n"
          ]
        }
      ]
    },
    {
      "cell_type": "code",
      "source": [
        "# Handling Emojis using Emojis"
      ],
      "metadata": {
        "id": "HFXl0azZ2DqE"
      },
      "execution_count": null,
      "outputs": []
    },
    {
      "cell_type": "code",
      "source": [
        "print(emoji.demojize(\"I love Python 😄☹\"))"
      ],
      "metadata": {
        "colab": {
          "base_uri": "https://localhost:8080/"
        },
        "id": "D8urryxc2JWB",
        "outputId": "04f0c8dd-8211-4bd4-e152-68f46c5a18b0"
      },
      "execution_count": null,
      "outputs": [
        {
          "output_type": "stream",
          "name": "stdout",
          "text": [
            "I love Python :grinning_face_with_smiling_eyes::frowning_face:\n"
          ]
        }
      ]
    },
    {
      "cell_type": "code",
      "source": [
        "# Creating a function that has all of this implemented"
      ],
      "metadata": {
        "id": "e1-JjjZI2Pyi"
      },
      "execution_count": null,
      "outputs": []
    },
    {
      "cell_type": "code",
      "source": [
        "def text_preprocessing(text):\n",
        "  # Lower text\n",
        "  low = text.lower()\n",
        "  # Substituting HTML Tags\n",
        "  no_html = re.sub(\"<.*?>\", \"^^\" ,substitution_text)\n",
        "  #"
      ],
      "metadata": {
        "id": "WbQaHcO56hXI"
      },
      "execution_count": null,
      "outputs": []
    },
    {
      "cell_type": "code",
      "source": [],
      "metadata": {
        "id": "7UUzJGpQ7-p4"
      },
      "execution_count": null,
      "outputs": []
    },
    {
      "cell_type": "code",
      "metadata": {
        "id": "3987af99"
      },
      "source": [
        "def text_preprocessing_combined(text):\n",
        "  \"\"\"\n",
        "  Applies a series of preprocessing steps to a string.\n",
        "\n",
        "  Args:\n",
        "    text: The input string to preprocess.\n",
        "\n",
        "  Returns:\n",
        "    The preprocessed string.\n",
        "  \"\"\"\n",
        "  # Lowercase text\n",
        "  lowercased_text = text.lower()\n",
        "\n",
        "  # Substituting HTML Tags (reusing existing logic)\n",
        "  # Note: The current substitution_text is a global variable.\n",
        "  # To make this function more general, you might want to pass\n",
        "  # the text to remove HTML tags from as an argument or modify the regex\n",
        "  # to work directly on the lowercased_text. For now, I'll assume\n",
        "  # you want to apply this to the input text after lowercasing.\n",
        "  no_html_text = re.sub(\"<.*?>\", \" \", lowercased_text) # Using space instead of ^^ for better readability\n",
        "\n",
        "  # Removing URLs (reusing existing function)\n",
        "  no_url_text = remove_url(no_html_text)\n",
        "\n",
        "  # Removing Punctuation (reusing existing function)\n",
        "  no_punctuation_text = remove_puntuation(no_url_text)\n",
        "\n",
        "  # Correct Spelling using TextBlob (reusing existing function)\n",
        "  # Note: Spell checking can be computationally expensive and might not be suitable\n",
        "  # for large amounts of text or real-time processing.\n",
        "  corrected_spelling_text = correct_spelling_textblob(no_punctuation_text)\n",
        "\n",
        "  # Remove Multiple Spaces (reusing existing function)\n",
        "  cleaned_text = remove_multispace(corrected_spelling_text)\n",
        "\n",
        "  return cleaned_text"
      ],
      "execution_count": null,
      "outputs": []
    },
    {
      "cell_type": "code",
      "metadata": {
        "colab": {
          "base_uri": "https://localhost:8080/"
        },
        "id": "8695ca26",
        "outputId": "b4d4fd14-7175-4e80-85a3-70f96514c236"
      },
      "source": [
        "# Example usage of the combined preprocessing function\n",
        "sample_text = \" This  is an Example. <p> This is a <div> paragraph. </p> The link is https://www.example.com. What's wrong?? The compter is brokn. Too    many    spaces.\"\n",
        "preprocessed_text = text_preprocessing_combined(sample_text)\n",
        "print(\"Original Text:\", sample_text)\n",
        "print(\"Preprocessed Text:\", preprocessed_text)"
      ],
      "execution_count": null,
      "outputs": [
        {
          "output_type": "stream",
          "name": "stdout",
          "text": [
            "Original Text:  This  is an Example. <p> This is a <div> paragraph. </p> The link is https://www.example.com. What's wrong?? The compter is brokn. Too    many    spaces.\n",
            "Preprocessed Text: this is an example^^ this is a paragraph^^ the link is ^^^^ what^^s wrong^^^^ the computer is broken^^ too many spaces^^\n"
          ]
        }
      ]
    }
  ]
}