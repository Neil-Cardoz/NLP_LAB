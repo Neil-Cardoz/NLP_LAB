{
 "cells": [
  {
   "cell_type": "code",
   "execution_count": 23,
   "id": "89e23953",
   "metadata": {},
   "outputs": [],
   "source": [
    "from sklearn.feature_extraction.text import CountVectorizer"
   ]
  },
  {
   "cell_type": "code",
   "execution_count": 24,
   "id": "faa59b3c",
   "metadata": {},
   "outputs": [],
   "source": [
    "# Sample Sentence\n",
    "sentences = [\"I love natural language processing\", \"I love learning new things\"]"
   ]
  },
  {
   "cell_type": "code",
   "execution_count": 25,
   "id": "d59a83af",
   "metadata": {},
   "outputs": [],
   "source": [
    "# Innitialize the Vetorizer\n",
    "vectorizer = CountVectorizer()"
   ]
  },
  {
   "cell_type": "code",
   "execution_count": 26,
   "id": "45e73771",
   "metadata": {},
   "outputs": [],
   "source": [
    "# \n",
    "X = vectorizer.fit_transform(sentences)"
   ]
  },
  {
   "cell_type": "code",
   "execution_count": 27,
   "id": "b75fa9c9",
   "metadata": {},
   "outputs": [
    {
     "name": "stdout",
     "output_type": "stream",
     "text": [
      "Vocabulary: ['language' 'learning' 'love' 'natural' 'new' 'processing' 'things']\n"
     ]
    }
   ],
   "source": [
    "print(\"Vocabulary:\", vectorizer.get_feature_names_out())"
   ]
  },
  {
   "cell_type": "code",
   "execution_count": 28,
   "id": "82d07e0e",
   "metadata": {},
   "outputs": [
    {
     "name": "stdout",
     "output_type": "stream",
     "text": [
      "Count Matrix:\n",
      " [[1 0 1 1 0 1 0]\n",
      " [0 1 1 0 1 0 1]]\n"
     ]
    }
   ],
   "source": [
    "print(\"Count Matrix:\\n\", X.toarray())"
   ]
  },
  {
   "cell_type": "code",
   "execution_count": 29,
   "id": "dc9f63a5",
   "metadata": {},
   "outputs": [],
   "source": [
    "import pandas as pd\n",
    "from sklearn.feature_extraction.text import TfidfVectorizer"
   ]
  },
  {
   "cell_type": "code",
   "execution_count": 30,
   "id": "d6b6efe5",
   "metadata": {},
   "outputs": [],
   "source": [
    "# Innitialize the Vetorizer as TFIDF\n",
    "vectorizer = CountVectorizer()"
   ]
  },
  {
   "cell_type": "code",
   "execution_count": 31,
   "id": "522e1d6e",
   "metadata": {},
   "outputs": [],
   "source": [
    "# Fit and transform the Sentences\n",
    "X = vectorizer.fit_transform(sentences)"
   ]
  },
  {
   "cell_type": "code",
   "execution_count": 32,
   "id": "3713ead7",
   "metadata": {},
   "outputs": [],
   "source": [
    "# Convert the TF-IDF matrix to a dataframe\n",
    "df = pd.DataFrame(X.toarray(), columns=vectorizer.get_feature_names_out())"
   ]
  },
  {
   "cell_type": "code",
   "execution_count": 33,
   "id": "ceb78e63",
   "metadata": {},
   "outputs": [
    {
     "name": "stdout",
     "output_type": "stream",
     "text": [
      "   language  learning  love  natural  new  processing  things\n",
      "0         1         0     1        1    0           1       0\n",
      "1         0         1     1        0    1           0       1\n"
     ]
    }
   ],
   "source": [
    "# Display the dataframe\n",
    "print(df)"
   ]
  },
  {
   "cell_type": "code",
   "execution_count": null,
   "id": "a7f60c1b",
   "metadata": {},
   "outputs": [],
   "source": []
  },
  {
   "cell_type": "code",
   "execution_count": null,
   "id": "eb325322",
   "metadata": {},
   "outputs": [],
   "source": []
  },
  {
   "cell_type": "code",
   "execution_count": null,
   "id": "56b1fb26",
   "metadata": {},
   "outputs": [],
   "source": []
  },
  {
   "cell_type": "code",
   "execution_count": null,
   "id": "611ba2a3",
   "metadata": {},
   "outputs": [],
   "source": []
  },
  {
   "cell_type": "code",
   "execution_count": null,
   "id": "70c6f8a7",
   "metadata": {},
   "outputs": [],
   "source": []
  }
 ],
 "metadata": {
  "kernelspec": {
   "display_name": "Python 3",
   "language": "python",
   "name": "python3"
  },
  "language_info": {
   "codemirror_mode": {
    "name": "ipython",
    "version": 3
   },
   "file_extension": ".py",
   "mimetype": "text/x-python",
   "name": "python",
   "nbconvert_exporter": "python",
   "pygments_lexer": "ipython3",
   "version": "3.12.1"
  }
 },
 "nbformat": 4,
 "nbformat_minor": 5
}
