{
  "nbformat": 4,
  "nbformat_minor": 0,
  "metadata": {
    "colab": {
      "provenance": [],
      "authorship_tag": "ABX9TyN2t/RsvR7n0Bzm6RZSZ3cV",
      "include_colab_link": true
    },
    "kernelspec": {
      "name": "python3",
      "display_name": "Python 3"
    },
    "language_info": {
      "name": "python"
    }
  },
  "cells": [
    {
      "cell_type": "markdown",
      "metadata": {
        "id": "view-in-github",
        "colab_type": "text"
      },
      "source": [
        "<a href=\"https://colab.research.google.com/github/Neil-Cardoz/NLP_LAB/blob/main/TextGeneration.ipynb\" target=\"_parent\"><img src=\"https://colab.research.google.com/assets/colab-badge.svg\" alt=\"Open In Colab\"/></a>"
      ]
    },
    {
      "cell_type": "code",
      "execution_count": null,
      "metadata": {
        "id": "HCBOA_osF6Z3"
      },
      "outputs": [],
      "source": [
        "!pip install dataset"
      ]
    },
    {
      "cell_type": "code",
      "source": [
        "import pandas as pd\n",
        "import numpy as np\n",
        "from datasets import load_dataset\n",
        "from collections import defaultdict"
      ],
      "metadata": {
        "id": "WQdsd-O0F_q8"
      },
      "execution_count": null,
      "outputs": []
    },
    {
      "cell_type": "code",
      "source": [
        "dataset = load_dataset(\"ag_news\")"
      ],
      "metadata": {
        "id": "Tfytgws4GMIy"
      },
      "execution_count": null,
      "outputs": []
    },
    {
      "cell_type": "code",
      "source": [
        "# Convert Dataset to Dataframe\n",
        "df = pd.DataFrame(dataset[\"train\"])\n",
        "X_train = df[\"text\"]"
      ],
      "metadata": {
        "id": "VeXOlcKVGTNv"
      },
      "execution_count": null,
      "outputs": []
    },
    {
      "cell_type": "code",
      "source": [
        "X_train"
      ],
      "metadata": {
        "id": "xjqLuBB0VIff"
      },
      "execution_count": null,
      "outputs": []
    },
    {
      "cell_type": "code",
      "source": [
        "# Text Generation\n",
        "def build_ngram_model(texts, n=2):\n",
        "  model = defaultdict(list)\n",
        "  for text in texts:\n",
        "    words = text.split()\n",
        "    for i in range(len(words) - n + 1):\n",
        "      key = tuple(words[i:i+n-1])\n",
        "      model[key].append(words[i+n-1]) # Corrected index\n",
        "  return model"
      ],
      "metadata": {
        "id": "-nVYibQtGazp"
      },
      "execution_count": null,
      "outputs": []
    },
    {
      "cell_type": "code",
      "source": [
        "# function to generate words\n",
        "def generate_text(model, seed, n=2, length=20):\n",
        "  seed_words = seed.split()\n",
        "  if len(seed_words) < n-1: # Adjusted for n-1 length key\n",
        "    return \"Seed text too short\"\n",
        "\n",
        "  result = seed_words[:]\n",
        "  for _ in range(length):\n",
        "    key = tuple(result[-(n-1):]) # Use last n-1 words for the key\n",
        "    if key in model:\n",
        "      next_word = np.random.choice(model[key])\n",
        "      result.append(next_word)\n",
        "    else:\n",
        "      break\n",
        "  return ' '.join(result)"
      ],
      "metadata": {
        "id": "OFwj5Od5H1wF"
      },
      "execution_count": null,
      "outputs": []
    },
    {
      "cell_type": "code",
      "source": [
        "# Build the n-gram model\n",
        "ngram_model = build_ngram_model(X_train, n=3)"
      ],
      "metadata": {
        "id": "7M1UBmLrJa2I"
      },
      "execution_count": null,
      "outputs": []
    },
    {
      "cell_type": "code",
      "source": [
        "# Example text Generation\n",
        "seed_text = \"The stock market is good today\"\n",
        "generated_text = generate_text(ngram_model, seed_text, n=3, length=20)\n",
        "print(generated_text)\n",
        "print(len(seed_text))"
      ],
      "metadata": {
        "id": "B02Ht6o0JkSO"
      },
      "execution_count": null,
      "outputs": []
    },
    {
      "cell_type": "code",
      "source": [],
      "metadata": {
        "id": "ixG0vgQpJtLq"
      },
      "execution_count": null,
      "outputs": []
    }
  ]
}